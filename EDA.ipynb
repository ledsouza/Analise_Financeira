{
 "cells": [
  {
   "cell_type": "code",
   "execution_count": 1,
   "metadata": {},
   "outputs": [],
   "source": [
    "import pandas as pd\n",
    "import seaborn as sns\n",
    "from matplotlib import pyplot as plt"
   ]
  },
  {
   "cell_type": "code",
   "execution_count": 2,
   "metadata": {},
   "outputs": [],
   "source": [
    "sns.set_palette('deep')\n",
    "sns.set_style('darkgrid')"
   ]
  },
  {
   "cell_type": "code",
   "execution_count": 3,
   "metadata": {},
   "outputs": [
    {
     "data": {
      "text/html": [
       "<div>\n",
       "<style scoped>\n",
       "    .dataframe tbody tr th:only-of-type {\n",
       "        vertical-align: middle;\n",
       "    }\n",
       "\n",
       "    .dataframe tbody tr th {\n",
       "        vertical-align: top;\n",
       "    }\n",
       "\n",
       "    .dataframe thead th {\n",
       "        text-align: right;\n",
       "    }\n",
       "</style>\n",
       "<table border=\"1\" class=\"dataframe\">\n",
       "  <thead>\n",
       "    <tr style=\"text-align: right;\">\n",
       "      <th></th>\n",
       "      <th>Data</th>\n",
       "      <th>Valor</th>\n",
       "      <th>Descrição</th>\n",
       "      <th>Categoria</th>\n",
       "    </tr>\n",
       "  </thead>\n",
       "  <tbody>\n",
       "    <tr>\n",
       "      <th>0</th>\n",
       "      <td>2023-10-02</td>\n",
       "      <td>13.50</td>\n",
       "      <td>99POP</td>\n",
       "      <td>Transporte</td>\n",
       "    </tr>\n",
       "    <tr>\n",
       "      <th>1</th>\n",
       "      <td>2023-10-02</td>\n",
       "      <td>96.00</td>\n",
       "      <td>TRI</td>\n",
       "      <td>Transporte</td>\n",
       "    </tr>\n",
       "    <tr>\n",
       "      <th>2</th>\n",
       "      <td>2023-10-02</td>\n",
       "      <td>188.82</td>\n",
       "      <td>CCG</td>\n",
       "      <td>Saúde</td>\n",
       "    </tr>\n",
       "    <tr>\n",
       "      <th>3</th>\n",
       "      <td>2023-10-03</td>\n",
       "      <td>21.00</td>\n",
       "      <td>Café</td>\n",
       "      <td>Alimentação</td>\n",
       "    </tr>\n",
       "    <tr>\n",
       "      <th>4</th>\n",
       "      <td>2023-10-03</td>\n",
       "      <td>280.00</td>\n",
       "      <td>Psicólogo</td>\n",
       "      <td>Saúde</td>\n",
       "    </tr>\n",
       "  </tbody>\n",
       "</table>\n",
       "</div>"
      ],
      "text/plain": [
       "        Data   Valor  Descrição    Categoria\n",
       "0 2023-10-02   13.50      99POP   Transporte\n",
       "1 2023-10-02   96.00        TRI   Transporte\n",
       "2 2023-10-02  188.82        CCG        Saúde\n",
       "3 2023-10-03   21.00       Café  Alimentação\n",
       "4 2023-10-03  280.00  Psicólogo        Saúde"
      ]
     },
     "execution_count": 3,
     "metadata": {},
     "output_type": "execute_result"
    }
   ],
   "source": [
    "months = ['Janeiro', 'Fevereiro', 'Março', 'Abril', 'Maio', 'Junho', 'Julho', 'Agosto', 'Setembro', 'Outubro', 'Novembro', 'Dezembro']\n",
    "sheet_id = '1quM2SQCyXHGd5zPc3y46FYjql_VoOQUqqwRtF9Ws0Xg'\n",
    "sheet_name = months[9]\n",
    "url = f'https://docs.google.com/spreadsheet/ccc?key={sheet_id}&output=xlsx'\n",
    "df = pd.read_excel(url, sheet_name=sheet_name, header=2).iloc[:, 10:14]\n",
    "df.head()"
   ]
  },
  {
   "cell_type": "code",
   "execution_count": 4,
   "metadata": {},
   "outputs": [
    {
     "data": {
      "text/plain": [
       "Data         datetime64[ns]\n",
       "Valor               float64\n",
       "Descrição            object\n",
       "Categoria            object\n",
       "dtype: object"
      ]
     },
     "execution_count": 4,
     "metadata": {},
     "output_type": "execute_result"
    }
   ],
   "source": [
    "df.dtypes"
   ]
  },
  {
   "cell_type": "code",
   "execution_count": 5,
   "metadata": {},
   "outputs": [
    {
     "data": {
      "text/html": [
       "<div>\n",
       "<style scoped>\n",
       "    .dataframe tbody tr th:only-of-type {\n",
       "        vertical-align: middle;\n",
       "    }\n",
       "\n",
       "    .dataframe tbody tr th {\n",
       "        vertical-align: top;\n",
       "    }\n",
       "\n",
       "    .dataframe thead th {\n",
       "        text-align: right;\n",
       "    }\n",
       "</style>\n",
       "<table border=\"1\" class=\"dataframe\">\n",
       "  <thead>\n",
       "    <tr style=\"text-align: right;\">\n",
       "      <th></th>\n",
       "      <th>Valor</th>\n",
       "    </tr>\n",
       "    <tr>\n",
       "      <th>Categoria</th>\n",
       "      <th></th>\n",
       "    </tr>\n",
       "  </thead>\n",
       "  <tbody>\n",
       "    <tr>\n",
       "      <th>Pessoal</th>\n",
       "      <td>971.16</td>\n",
       "    </tr>\n",
       "    <tr>\n",
       "      <th>Transporte</th>\n",
       "      <td>637.48</td>\n",
       "    </tr>\n",
       "    <tr>\n",
       "      <th>Saúde</th>\n",
       "      <td>602.32</td>\n",
       "    </tr>\n",
       "    <tr>\n",
       "      <th>Alimentação</th>\n",
       "      <td>443.70</td>\n",
       "    </tr>\n",
       "    <tr>\n",
       "      <th>Internet</th>\n",
       "      <td>94.99</td>\n",
       "    </tr>\n",
       "    <tr>\n",
       "      <th>Outros</th>\n",
       "      <td>76.50</td>\n",
       "    </tr>\n",
       "    <tr>\n",
       "      <th>Presentes</th>\n",
       "      <td>37.00</td>\n",
       "    </tr>\n",
       "  </tbody>\n",
       "</table>\n",
       "</div>"
      ],
      "text/plain": [
       "              Valor\n",
       "Categoria          \n",
       "Pessoal      971.16\n",
       "Transporte   637.48\n",
       "Saúde        602.32\n",
       "Alimentação  443.70\n",
       "Internet      94.99\n",
       "Outros        76.50\n",
       "Presentes     37.00"
      ]
     },
     "execution_count": 5,
     "metadata": {},
     "output_type": "execute_result"
    }
   ],
   "source": [
    "total_categoria = df[['Valor', 'Categoria']].groupby('Categoria')\n",
    "total_categoria = total_categoria.sum().sort_values('Valor', ascending=False)\n",
    "total_categoria"
   ]
  },
  {
   "cell_type": "code",
   "execution_count": 6,
   "metadata": {},
   "outputs": [
    {
     "data": {
      "image/png": "[encoded data removed]",
      "text/plain": [
       "<Figure size 1200x600 with 1 Axes>"
      ]
     },
     "metadata": {},
     "output_type": "display_data"
    }
   ],
   "source": [
    "ax = sns.barplot(data = total_categoria, x = 'Categoria', y = 'Valor')\n",
    "ax.figure.set_size_inches(12,6)\n",
    "ax.set_title('Valor total por categoria', loc='left', fontsize=18)\n",
    "ax.set_xlabel('Categoria', fontsize=14)\n",
    "ax.set_ylabel('Valor total (R$)', fontsize=14)\n",
    "plt.show()"
   ]
  },
  {
   "cell_type": "code",
   "execution_count": 7,
   "metadata": {},
   "outputs": [
    {
     "name": "stdout",
     "output_type": "stream",
     "text": [
      "Foi economizado 21.56%\n",
      "Os custos fixos foram de 51.84%\n",
      "Os custos de lazer foram de 26.61%\n"
     ]
    }
   ],
   "source": [
    "valor_disponivel = 3649.92\n",
    "categorias = set(total_categoria.index)\n",
    "categoria_lazer = set(['Pessoal']) & categorias\n",
    "categorias_fixas = categorias - categoria_lazer\n",
    "custos_fixos = total_categoria.loc[list(categorias_fixas)].sum()\n",
    "custos_lazer = total_categoria.loc[list(categoria_lazer)].sum().values[0]\n",
    "guardar = valor_disponivel - (custos_fixos + custos_lazer)\n",
    "economizado = ((guardar/valor_disponivel)*100).values[0]\n",
    "\n",
    "print(f'Foi economizado {economizado:.2f}%')\n",
    "print(f'Os custos fixos foram de {(custos_fixos/valor_disponivel).values[0]*100:.2f}%')\n",
    "print(f'Os custos de lazer foram de {(custos_lazer/valor_disponivel)*100:.2f}%')"
   ]
  },
  {
   "cell_type": "code",
   "execution_count": 8,
   "metadata": {},
   "outputs": [
    {
     "data": {
      "text/html": [
       "<div>\n",
       "<style scoped>\n",
       "    .dataframe tbody tr th:only-of-type {\n",
       "        vertical-align: middle;\n",
       "    }\n",
       "\n",
       "    .dataframe tbody tr th {\n",
       "        vertical-align: top;\n",
       "    }\n",
       "\n",
       "    .dataframe thead th {\n",
       "        text-align: right;\n",
       "    }\n",
       "</style>\n",
       "<table border=\"1\" class=\"dataframe\">\n",
       "  <thead>\n",
       "    <tr style=\"text-align: right;\">\n",
       "      <th></th>\n",
       "      <th>Valor</th>\n",
       "    </tr>\n",
       "    <tr>\n",
       "      <th>Descrição</th>\n",
       "      <th></th>\n",
       "    </tr>\n",
       "  </thead>\n",
       "  <tbody>\n",
       "    <tr>\n",
       "      <th>99POP</th>\n",
       "      <td>16.85</td>\n",
       "    </tr>\n",
       "    <tr>\n",
       "      <th>Almoço</th>\n",
       "      <td>38.50</td>\n",
       "    </tr>\n",
       "    <tr>\n",
       "      <th>Café</th>\n",
       "      <td>29.98</td>\n",
       "    </tr>\n",
       "    <tr>\n",
       "      <th>Jantar</th>\n",
       "      <td>36.90</td>\n",
       "    </tr>\n",
       "    <tr>\n",
       "      <th>Uber</th>\n",
       "      <td>19.93</td>\n",
       "    </tr>\n",
       "  </tbody>\n",
       "</table>\n",
       "</div>"
      ],
      "text/plain": [
       "           Valor\n",
       "Descrição       \n",
       "99POP      16.85\n",
       "Almoço     38.50\n",
       "Café       29.98\n",
       "Jantar     36.90\n",
       "Uber       19.93"
      ]
     },
     "execution_count": 8,
     "metadata": {},
     "output_type": "execute_result"
    }
   ],
   "source": [
    "mask = ((df['Descrição'] == 'Uber') | (df['Descrição'] == '99POP')) & ((df['Valor'] > 25) | (df['Valor'] < 15))\n",
    "df_transporte_trabalho = df[~mask]\n",
    "media_categoria = df_transporte_trabalho[['Valor', 'Descrição']].groupby('Descrição').mean()\n",
    "categorias_desejadas = ['Almoço', 'Jantar', 'Café', '99POP', 'Uber']\n",
    "categorias_presentes = media_categoria.index.isin(categorias_desejadas)\n",
    "media_categoria[categorias_presentes].round(2)"
   ]
  }
 ],
 "metadata": {
  "kernelspec": {
   "display_name": "stenv",
   "language": "python",
   "name": "python3"
  },
  "language_info": {
   "codemirror_mode": {
    "name": "ipython",
    "version": 3
   },
   "file_extension": ".py",
   "mimetype": "text/x-python",
   "name": "python",
   "nbconvert_exporter": "python",
   "pygments_lexer": "ipython3",
   "version": "3.9.18"
  }
 },
 "nbformat": 4,
 "nbformat_minor": 2
}
